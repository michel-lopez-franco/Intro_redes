{
 "cells": [
  {
   "cell_type": "code",
   "execution_count": null,
   "metadata": {},
   "outputs": [],
   "source": []
  },
  {
   "cell_type": "markdown",
   "metadata": {},
   "source": [
    "# La retropropagación (backpropagation)\n",
    "\n",
    "La retropropagación (backpropagation) es el algoritmo fundamental para entrenar redes neuronales. Te lo explico paso a paso:\n",
    "\n",
    "Definición:\n",
    "\n",
    "Es un algoritmo que calcula cómo cada neurona contribuyó al error final\n",
    "Propaga el error desde la salida hacia atrás a través de la red\n",
    "Utiliza la regla de la cadena del cálculo diferencial\n",
    "\n",
    "\n",
    "Pasos del algoritmo:\n",
    "a) Forward Pass (Paso hacia adelante):\n",
    "\n",
    "La entrada atraviesa la red\n",
    "Se calcula la salida actual\n",
    "Se compara con la salida deseada\n",
    "Se calcula el error\n",
    "\n",
    "b) Backward Pass (Paso hacia atrás):\n",
    "\n",
    "Se calcula el gradiente del error respecto a cada peso\n",
    "Se propaga el error desde la salida hacia la entrada\n",
    "Se ajustan los pesos usando el gradiente\n",
    "\n",
    "\n",
    "Fórmulas principales:"
   ]
  },
  {
   "cell_type": "markdown",
   "metadata": {},
   "source": [
    "```python\n",
    "# Error en la capa de salida\n",
    "δₖ = (yₖ - dₖ) * f'(netₖ)\n",
    "# donde:\n",
    "# yₖ = salida actual\n",
    "# dₖ = salida deseada\n",
    "# f'() = derivada de la función de activación\n",
    "\n",
    "# Error en capas ocultas\n",
    "δⱼ = f'(netⱼ) * Σ(wⱼₖ * δₖ)\n",
    "\n",
    "# Actualización de pesos\n",
    "wᵢⱼ_nuevo = wᵢⱼ_actual - η * δⱼ * xᵢ\n",
    "# donde:\n",
    "# η = tasa de aprendizaje\n",
    "```"
   ]
  },
  {
   "cell_type": "markdown",
   "metadata": {},
   "source": []
  },
  {
   "cell_type": "markdown",
   "metadata": {},
   "source": [
    "```markdown\n",
    "Entrada → [Capa1] → [Capa2] → [Salida] → Error \n",
    "                                        ↓\n",
    "Ajuste ← [Capa1] ← [Capa2] ← [Salida] ← Gradientes \n",
    "```"
   ]
  },
  {
   "cell_type": "code",
   "execution_count": null,
   "metadata": {},
   "outputs": [],
   "source": []
  },
  {
   "cell_type": "code",
   "execution_count": 2,
   "metadata": {},
   "outputs": [],
   "source": [
    "import numpy as np\n",
    "import matplotlib.pyplot as plt"
   ]
  },
  {
   "cell_type": "markdown",
   "metadata": {},
   "source": [
    "\n",
    "| Entrada 1 | Entrada 2 | Salida |\n",
    "|-----------|-----------|--------|\n",
    "|     0     |     0     |   0    |\n",
    "|     0     |     1     |   1    |\n",
    "|     1     |     0     |   1    |\n",
    "|     1     |     1     |   0    |\n"
   ]
  },
  {
   "cell_type": "code",
   "execution_count": 5,
   "metadata": {},
   "outputs": [
    {
     "data": {
      "image/png": "[encoded data removed]",
      "text/plain": [
       "<Figure size 640x480 with 1 Axes>"
      ]
     },
     "metadata": {},
     "output_type": "display_data"
    }
   ],
   "source": [
    "# Intentar clasificar los siguientes puntos de una xor\n",
    "\n",
    "\n",
    "X = np.array([[0, 0],\n",
    "              [0, 1],\n",
    "              [1, 0],\n",
    "              [1, 1]])\n",
    "\n",
    "y = np.array([[0],\n",
    "              [1],\n",
    "              [1],\n",
    "              [0]])\n",
    "\n",
    "plt.scatter(X[:, 0], X[:, 1])\n",
    "#plt.scatter(X[:, 0], X[:, 1], c=y.flatten(), cmap='viridis')\n",
    "plt.xlabel('Entrada 1')\n",
    "plt.ylabel('Entrada 2')\n",
    "plt.title('Datos de entrenamiento XOR')\n",
    "#plt.colorbar(label='Clase')\n",
    "plt.show()"
   ]
  },
  {
   "cell_type": "code",
   "execution_count": null,
   "metadata": {},
   "outputs": [],
   "source": []
  },
  {
   "cell_type": "code",
   "execution_count": 3,
   "metadata": {},
   "outputs": [
    {
     "name": "stdout",
     "output_type": "stream",
     "text": [
      "Época 0, Error: 0.2516\n",
      "Época 100, Error: 0.2500\n",
      "Época 200, Error: 0.2500\n",
      "Época 300, Error: 0.2500\n",
      "Época 400, Error: 0.2500\n",
      "Época 500, Error: 0.2500\n",
      "Época 600, Error: 0.2500\n",
      "Época 700, Error: 0.2500\n",
      "Época 800, Error: 0.2500\n",
      "Época 900, Error: 0.2500\n",
      "\n",
      "Predicciones:\n",
      "Entrada: [0, 0], Salida Deseada: 0, Predicción: 0.4977\n",
      "Entrada: [0, 1], Salida Deseada: 1, Predicción: 0.5009\n",
      "Entrada: [1, 0], Salida Deseada: 1, Predicción: 0.4992\n",
      "Entrada: [1, 1], Salida Deseada: 0, Predicción: 0.5024\n"
     ]
    }
   ],
   "source": [
    "class RedNeuronal:\n",
    "    def __init__(self, capas=[2, 3, 1]):\n",
    "        \"\"\"\n",
    "        capas: lista con número de neuronas por capa [entrada, oculta, salida]\n",
    "        \"\"\"\n",
    "        self.capas = capas\n",
    "        # Inicialización de pesos con valores aleatorios pequeños\n",
    "        self.pesos = [\n",
    "            np.random.randn(capas[i], capas[i+1]) * 0.1\n",
    "            for i in range(len(capas)-1)\n",
    "        ]\n",
    "        # Inicialización de biases\n",
    "        self.biases = [\n",
    "            np.random.randn(1, capas[i+1]) * 0.1\n",
    "            for i in range(len(capas)-1)\n",
    "        ]\n",
    "        \n",
    "    def sigmoid(self, x):\n",
    "        \"\"\"Función de activación sigmoid\"\"\"\n",
    "        return 1 / (1 + np.exp(-x))\n",
    "    \n",
    "    def sigmoid_derivada(self, x):\n",
    "        \"\"\"Derivada de la función sigmoid\"\"\"\n",
    "        return x * (1 - x)\n",
    "    \n",
    "    def forward(self, X):\n",
    "        \"\"\"\n",
    "        Propagación hacia adelante\n",
    "        Guarda las activaciones para usar en backpropagation\n",
    "        \"\"\"\n",
    "        self.activaciones = [X]\n",
    "        for i in range(len(self.pesos)):\n",
    "            net = np.dot(self.activaciones[-1], self.pesos[i]) + self.biases[i]\n",
    "            self.activaciones.append(self.sigmoid(net))\n",
    "        return self.activaciones[-1]\n",
    "    \n",
    "    def backward(self, X, y, learning_rate=0.1):\n",
    "        \"\"\"\n",
    "        Retropropagación del error y actualización de pesos\n",
    "        \"\"\"\n",
    "        m = X.shape[0]  # número de ejemplos\n",
    "        delta = self.activaciones[-1] - y\n",
    "        \n",
    "        # Retropropagación a través de las capas\n",
    "        for i in range(len(self.pesos) - 1, -1, -1):\n",
    "            # Calcular gradientes\n",
    "            peso_grad = np.dot(self.activaciones[i].T, delta) / m\n",
    "            bias_grad = np.sum(delta, axis=0, keepdims=True) / m\n",
    "            \n",
    "            # Actualizar pesos y biases\n",
    "            self.pesos[i] -= learning_rate * peso_grad\n",
    "            self.biases[i] -= learning_rate * bias_grad\n",
    "            \n",
    "            # Calcular delta para la siguiente capa\n",
    "            if i > 0:\n",
    "                delta = np.dot(delta, self.pesos[i].T) * self.sigmoid_derivada(self.activaciones[i])\n",
    "    \n",
    "    def train(self, X, y, epochs=1000, learning_rate=0.1):\n",
    "        \"\"\"Entrenamiento de la red\"\"\"\n",
    "        for epoch in range(epochs):\n",
    "            # Forward pass\n",
    "            output = self.forward(X)\n",
    "            \n",
    "            # Backward pass\n",
    "            self.backward(X, y, learning_rate)\n",
    "            \n",
    "            # Calcular error cada 100 épocas\n",
    "            if epoch % 100 == 0:\n",
    "                error = np.mean(np.square(output - y))\n",
    "                print(f'Época {epoch}, Error: {error:.4f}')\n",
    "\n",
    "# Datos de entrenamiento XOR\n",
    "X = np.array([[0, 0],\n",
    "              [0, 1],\n",
    "              [1, 0],\n",
    "              [1, 1]])\n",
    "\n",
    "y = np.array([[0],\n",
    "              [1],\n",
    "              [1],\n",
    "              [0]])\n",
    "\n",
    "# Crear y entrenar la red\n",
    "red = RedNeuronal([2, 4, 1])  # 2 entradas, 4 neuronas ocultas, 1 salida\n",
    "red.train(X, y, epochs=1000, learning_rate=0.1)\n",
    "\n",
    "# Probar la red\n",
    "print(\"\\nPredicciones:\")\n",
    "predicciones = red.forward(X)\n",
    "for i in range(len(X)):\n",
    "    # Convertimos los arrays a float antes de formatear\n",
    "    entrada = X[i].tolist()\n",
    "    salida = y[i][0]\n",
    "    pred = predicciones[i][0]\n",
    "    print(f\"Entrada: {entrada}, Salida Deseada: {salida}, Predicción: {pred:.4f}\")"
   ]
  },
  {
   "cell_type": "code",
   "execution_count": 7,
   "metadata": {},
   "outputs": [
    {
     "data": {
      "image/png": "[encoded data removed]",
      "text/plain": [
       "<Figure size 640x480 with 1 Axes>"
      ]
     },
     "metadata": {},
     "output_type": "display_data"
    }
   ],
   "source": [
    "import matplotlib.pyplot as plt\n",
    "\n",
    "plt.scatter(X[:, 0], X[:, 1], c=y.flatten(), cmap='viridis')\n",
    "plt.xlabel('Entrada 1')\n",
    "plt.ylabel('Entrada 2')\n",
    "plt.title('Datos de entrenamiento XOR')\n",
    "#plt.colorbar(label='Clase')\n",
    "plt.show()"
   ]
  }
 ],
 "metadata": {
  "kernelspec": {
   "display_name": "UP2024",
   "language": "python",
   "name": "python3"
  },
  "language_info": {
   "codemirror_mode": {
    "name": "ipython",
    "version": 3
   },
   "file_extension": ".py",
   "mimetype": "text/x-python",
   "name": "python",
   "nbconvert_exporter": "python",
   "pygments_lexer": "ipython3",
   "version": "3.12.2"
  }
 },
 "nbformat": 4,
 "nbformat_minor": 2
}
